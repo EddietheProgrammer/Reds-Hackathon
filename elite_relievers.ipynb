{
 "cells": [
  {
   "cell_type": "code",
   "execution_count": 2,
   "metadata": {},
   "outputs": [],
   "source": [
    "import matplotlib.pyplot as plt\n",
    "import numpy as np  \n",
    "import pandas as pd \n",
    "import seaborn as sns"
   ]
  },
  {
   "cell_type": "code",
   "execution_count": 3,
   "metadata": {},
   "outputs": [],
   "source": [
    "fangraphs_df = pd.read_csv(\"fangraphs_season_level.csv\")\n",
    "pitch_df = pd.read_csv(\"savant_pitch_level.csv\")"
   ]
  },
  {
   "cell_type": "code",
   "execution_count": 4,
   "metadata": {},
   "outputs": [],
   "source": [
    "#find elite back-end bullpen pitchers/high leverage guys\n",
    "elite_relievers = fangraphs_df[fangraphs_df['Role'] =='RP']\n",
    "elite_relievers = elite_relievers[elite_relievers['SD'] >= 30]\n",
    "elite_reliever_names = elite_relievers[[\"NameASCII\",\"Season\"]]"
   ]
  },
  {
   "cell_type": "code",
   "execution_count": 5,
   "metadata": {},
   "outputs": [],
   "source": [
    "#find elite back-end bullpen pitchers/high leverage guys\n",
    "elite_relievers = fangraphs_df[fangraphs_df['Role'] =='RP']\n",
    "elite_relievers = elite_relievers[elite_relievers['SD'] >= 30]\n",
    "elite_reliever_names = elite_relievers[[\"NameASCII\",\"Season\"]]\n",
    "elite_reliever_names[\"NameASCII\"].str.lower()\n",
    "elite_reliever_names = elite_reliever_names.rename({'NameASCII':'Name'},axis=1)\n",
    "elite_reliever_names = elite_reliever_names[\"Name\"].str.split().str[1]\n",
    "elite_reliever_savant = pitch_df\n",
    "elite_reliever_savant[\"player_name\"].str.lower()\n",
    "elite_reliever_savant = elite_reliever_savant.rename({'player_name':'Name'},axis=1)\n",
    "elite_reliever_savant[\"Name\"] = elite_reliever_savant['Name'].str.split(',').str[0]\n",
    "\n",
    "\n",
    "elite_rp_savant = elite_reliever_savant[elite_reliever_savant['Name'].isin(elite_reliever_names)]"
   ]
  }
 ],
 "metadata": {
  "kernelspec": {
   "display_name": "Python 3",
   "language": "python",
   "name": "python3"
  },
  "language_info": {
   "codemirror_mode": {
    "name": "ipython",
    "version": 3
   },
   "file_extension": ".py",
   "mimetype": "text/x-python",
   "name": "python",
   "nbconvert_exporter": "python",
   "pygments_lexer": "ipython3",
   "version": "3.11.5"
  }
 },
 "nbformat": 4,
 "nbformat_minor": 2
}
